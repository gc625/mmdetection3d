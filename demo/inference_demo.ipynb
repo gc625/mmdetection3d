{
 "cells": [
  {
   "cell_type": "code",
   "execution_count": 1,
   "metadata": {
    "pycharm": {
     "is_executing": false
    }
   },
   "outputs": [],
   "source": [
    "from mmdet3d.apis import init_model, inference_detector, show_result_meshlab"
   ]
  },
  {
   "cell_type": "code",
   "execution_count": 2,
   "metadata": {
    "pycharm": {
     "is_executing": false
    }
   },
   "outputs": [],
   "source": [
    "config_file = '../configs/second/hv_second_secfpn_6x8_80e_kitti-3d-car.py'\n",
    "# download the checkpoint from model zoo and put it in `checkpoints/`\n",
    "checkpoint_file = '../work_dirs/second/epoch_40.pth'"
   ]
  },
  {
   "cell_type": "code",
   "execution_count": 3,
   "metadata": {
    "pycharm": {
     "is_executing": false
    }
   },
   "outputs": [
    {
     "name": "stderr",
     "output_type": "stream",
     "text": [
      "/home/gabriel/mmdetection3d/mmdet3d/models/dense_heads/anchor3d_head.py:84: UserWarning: dir_offset and dir_limit_offset will be depressed and be incorporated into box coder in the future\n",
      "  warnings.warn(\n"
     ]
    },
    {
     "name": "stdout",
     "output_type": "stream",
     "text": [
      "load checkpoint from local path: ../work_dirs/second/epoch_40.pth\n"
     ]
    },
    {
     "ename": "FileNotFoundError",
     "evalue": "../work_dirs/second/epoch_40.pth can not be found.",
     "output_type": "error",
     "traceback": [
      "\u001b[0;31m---------------------------------------------------------------------------\u001b[0m",
      "\u001b[0;31mFileNotFoundError\u001b[0m                         Traceback (most recent call last)",
      "Cell \u001b[0;32mIn [3], line 2\u001b[0m\n\u001b[1;32m      1\u001b[0m \u001b[38;5;66;03m# build the model from a config file and a checkpoint file\u001b[39;00m\n\u001b[0;32m----> 2\u001b[0m model \u001b[38;5;241m=\u001b[39m init_model(config_file, checkpoint_file, device\u001b[38;5;241m=\u001b[39m\u001b[38;5;124m'\u001b[39m\u001b[38;5;124mcuda:0\u001b[39m\u001b[38;5;124m'\u001b[39m)\n",
      "File \u001b[0;32m~/mmdetection3d/mmdet3d/apis/inference.py:62\u001b[0m, in \u001b[0;36minit_model\u001b[0;34m(config, checkpoint, device)\u001b[0m\n\u001b[1;32m     60\u001b[0m model \u001b[39m=\u001b[39m build_model(config\u001b[39m.\u001b[39mmodel, test_cfg\u001b[39m=\u001b[39mconfig\u001b[39m.\u001b[39mget(\u001b[39m'\u001b[39m\u001b[39mtest_cfg\u001b[39m\u001b[39m'\u001b[39m))\n\u001b[1;32m     61\u001b[0m \u001b[39mif\u001b[39;00m checkpoint \u001b[39mis\u001b[39;00m \u001b[39mnot\u001b[39;00m \u001b[39mNone\u001b[39;00m:\n\u001b[0;32m---> 62\u001b[0m     checkpoint \u001b[39m=\u001b[39m load_checkpoint(model, checkpoint, map_location\u001b[39m=\u001b[39;49m\u001b[39m'\u001b[39;49m\u001b[39mcpu\u001b[39;49m\u001b[39m'\u001b[39;49m)\n\u001b[1;32m     63\u001b[0m     \u001b[39mif\u001b[39;00m \u001b[39m'\u001b[39m\u001b[39mCLASSES\u001b[39m\u001b[39m'\u001b[39m \u001b[39min\u001b[39;00m checkpoint[\u001b[39m'\u001b[39m\u001b[39mmeta\u001b[39m\u001b[39m'\u001b[39m]:\n\u001b[1;32m     64\u001b[0m         model\u001b[39m.\u001b[39mCLASSES \u001b[39m=\u001b[39m checkpoint[\u001b[39m'\u001b[39m\u001b[39mmeta\u001b[39m\u001b[39m'\u001b[39m][\u001b[39m'\u001b[39m\u001b[39mCLASSES\u001b[39m\u001b[39m'\u001b[39m]\n",
      "File \u001b[0;32m~/anaconda3/envs/mmdet/lib/python3.8/site-packages/mmcv/runner/checkpoint.py:627\u001b[0m, in \u001b[0;36mload_checkpoint\u001b[0;34m(model, filename, map_location, strict, logger, revise_keys)\u001b[0m\n\u001b[1;32m    601\u001b[0m \u001b[39mdef\u001b[39;00m \u001b[39mload_checkpoint\u001b[39m(\n\u001b[1;32m    602\u001b[0m         model: torch\u001b[39m.\u001b[39mnn\u001b[39m.\u001b[39mModule,\n\u001b[1;32m    603\u001b[0m         filename: \u001b[39mstr\u001b[39m,\n\u001b[0;32m   (...)\u001b[0m\n\u001b[1;32m    606\u001b[0m         logger: Optional[logging\u001b[39m.\u001b[39mLogger] \u001b[39m=\u001b[39m \u001b[39mNone\u001b[39;00m,\n\u001b[1;32m    607\u001b[0m         revise_keys: \u001b[39mlist\u001b[39m \u001b[39m=\u001b[39m [(\u001b[39mr\u001b[39m\u001b[39m'\u001b[39m\u001b[39m^module\u001b[39m\u001b[39m\\\u001b[39m\u001b[39m.\u001b[39m\u001b[39m'\u001b[39m, \u001b[39m'\u001b[39m\u001b[39m'\u001b[39m)]) \u001b[39m-\u001b[39m\u001b[39m>\u001b[39m Union[\u001b[39mdict\u001b[39m, OrderedDict]:\n\u001b[1;32m    608\u001b[0m     \u001b[39m\"\"\"Load checkpoint from a file or URI.\u001b[39;00m\n\u001b[1;32m    609\u001b[0m \n\u001b[1;32m    610\u001b[0m \u001b[39m    Args:\u001b[39;00m\n\u001b[0;32m   (...)\u001b[0m\n\u001b[1;32m    625\u001b[0m \u001b[39m        dict or OrderedDict: The loaded checkpoint.\u001b[39;00m\n\u001b[1;32m    626\u001b[0m \u001b[39m    \"\"\"\u001b[39;00m\n\u001b[0;32m--> 627\u001b[0m     checkpoint \u001b[39m=\u001b[39m _load_checkpoint(filename, map_location, logger)\n\u001b[1;32m    628\u001b[0m     \u001b[39m# OrderedDict is a subclass of dict\u001b[39;00m\n\u001b[1;32m    629\u001b[0m     \u001b[39mif\u001b[39;00m \u001b[39mnot\u001b[39;00m \u001b[39misinstance\u001b[39m(checkpoint, \u001b[39mdict\u001b[39m):\n",
      "File \u001b[0;32m~/anaconda3/envs/mmdet/lib/python3.8/site-packages/mmcv/runner/checkpoint.py:561\u001b[0m, in \u001b[0;36m_load_checkpoint\u001b[0;34m(filename, map_location, logger)\u001b[0m\n\u001b[1;32m    541\u001b[0m \u001b[39mdef\u001b[39;00m \u001b[39m_load_checkpoint\u001b[39m(\n\u001b[1;32m    542\u001b[0m         filename: \u001b[39mstr\u001b[39m,\n\u001b[1;32m    543\u001b[0m         map_location: Union[\u001b[39mstr\u001b[39m, Callable, \u001b[39mNone\u001b[39;00m] \u001b[39m=\u001b[39m \u001b[39mNone\u001b[39;00m,\n\u001b[1;32m    544\u001b[0m         logger: Optional[logging\u001b[39m.\u001b[39mLogger] \u001b[39m=\u001b[39m \u001b[39mNone\u001b[39;00m) \u001b[39m-\u001b[39m\u001b[39m>\u001b[39m Union[\u001b[39mdict\u001b[39m, OrderedDict]:\n\u001b[1;32m    545\u001b[0m     \u001b[39m\"\"\"Load checkpoint from somewhere (modelzoo, file, url).\u001b[39;00m\n\u001b[1;32m    546\u001b[0m \n\u001b[1;32m    547\u001b[0m \u001b[39m    Args:\u001b[39;00m\n\u001b[0;32m   (...)\u001b[0m\n\u001b[1;32m    559\u001b[0m \u001b[39m           information, which depends on the checkpoint.\u001b[39;00m\n\u001b[1;32m    560\u001b[0m \u001b[39m    \"\"\"\u001b[39;00m\n\u001b[0;32m--> 561\u001b[0m     \u001b[39mreturn\u001b[39;00m CheckpointLoader\u001b[39m.\u001b[39;49mload_checkpoint(filename, map_location, logger)\n",
      "File \u001b[0;32m~/anaconda3/envs/mmdet/lib/python3.8/site-packages/mmcv/runner/checkpoint.py:303\u001b[0m, in \u001b[0;36mCheckpointLoader.load_checkpoint\u001b[0;34m(cls, filename, map_location, logger)\u001b[0m\n\u001b[1;32m    300\u001b[0m class_name \u001b[39m=\u001b[39m checkpoint_loader\u001b[39m.\u001b[39m\u001b[39m__name__\u001b[39m  \u001b[39m# type: ignore\u001b[39;00m\n\u001b[1;32m    301\u001b[0m mmcv\u001b[39m.\u001b[39mprint_log(\n\u001b[1;32m    302\u001b[0m     \u001b[39mf\u001b[39m\u001b[39m'\u001b[39m\u001b[39mload checkpoint from \u001b[39m\u001b[39m{\u001b[39;00mclass_name[\u001b[39m10\u001b[39m:]\u001b[39m}\u001b[39;00m\u001b[39m path: \u001b[39m\u001b[39m{\u001b[39;00mfilename\u001b[39m}\u001b[39;00m\u001b[39m'\u001b[39m, logger)\n\u001b[0;32m--> 303\u001b[0m \u001b[39mreturn\u001b[39;00m checkpoint_loader(filename, map_location)\n",
      "File \u001b[0;32m~/anaconda3/envs/mmdet/lib/python3.8/site-packages/mmcv/runner/checkpoint.py:322\u001b[0m, in \u001b[0;36mload_from_local\u001b[0;34m(filename, map_location)\u001b[0m\n\u001b[1;32m    320\u001b[0m filename \u001b[39m=\u001b[39m osp\u001b[39m.\u001b[39mexpanduser(filename)\n\u001b[1;32m    321\u001b[0m \u001b[39mif\u001b[39;00m \u001b[39mnot\u001b[39;00m osp\u001b[39m.\u001b[39misfile(filename):\n\u001b[0;32m--> 322\u001b[0m     \u001b[39mraise\u001b[39;00m \u001b[39mFileNotFoundError\u001b[39;00m(\u001b[39mf\u001b[39m\u001b[39m'\u001b[39m\u001b[39m{\u001b[39;00mfilename\u001b[39m}\u001b[39;00m\u001b[39m can not be found.\u001b[39m\u001b[39m'\u001b[39m)\n\u001b[1;32m    323\u001b[0m checkpoint \u001b[39m=\u001b[39m torch\u001b[39m.\u001b[39mload(filename, map_location\u001b[39m=\u001b[39mmap_location)\n\u001b[1;32m    324\u001b[0m \u001b[39mreturn\u001b[39;00m checkpoint\n",
      "\u001b[0;31mFileNotFoundError\u001b[0m: ../work_dirs/second/epoch_40.pth can not be found."
     ]
    }
   ],
   "source": [
    "# build the model from a config file and a checkpoint file\n",
    "model = init_model(config_file, checkpoint_file, device='cuda:0')"
   ]
  },
  {
   "cell_type": "code",
   "execution_count": 10,
   "metadata": {
    "pycharm": {
     "is_executing": false
    }
   },
   "outputs": [],
   "source": [
    "# test a single sample\n",
    "pcd = 'kitti_000008.bin'\n",
    "result, data = inference_detector(model, pcd)"
   ]
  },
  {
   "cell_type": "code",
   "execution_count": 11,
   "metadata": {
    "pycharm": {
     "is_executing": false
    }
   },
   "outputs": [],
   "source": [
    "# show the results\n",
    "out_dir = './'\n",
    "show_result_meshlab(data, result, out_dir)"
   ]
  }
 ],
 "metadata": {
  "kernelspec": {
   "display_name": "Python 3.8.13 ('mmdet')",
   "language": "python",
   "name": "python3"
  },
  "language_info": {
   "codemirror_mode": {
    "name": "ipython",
    "version": 3
   },
   "file_extension": ".py",
   "mimetype": "text/x-python",
   "name": "python",
   "nbconvert_exporter": "python",
   "pygments_lexer": "ipython3",
   "version": "3.8.13"
  },
  "pycharm": {
   "stem_cell": {
    "cell_type": "raw",
    "metadata": {
     "collapsed": false
    },
    "source": []
   }
  },
  "vscode": {
   "interpreter": {
    "hash": "874f0ec17a66ed38419b046157f275f721ca741654e6ab48f9ea80358d5eeedd"
   }
  }
 },
 "nbformat": 4,
 "nbformat_minor": 4
}
